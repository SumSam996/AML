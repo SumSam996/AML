{
 "cells": [
  {
   "cell_type": "markdown",
   "metadata": {},
   "source": [
    "# Part B"
   ]
  },
  {
   "cell_type": "code",
   "execution_count": 1,
   "metadata": {
    "scrolled": true
   },
   "outputs": [
    {
     "data": {
      "text/plain": [
       "<Figure size 640x480 with 1 Axes>"
      ]
     },
     "metadata": {},
     "output_type": "display_data"
    }
   ],
   "source": [
    "from matplotlib import pyplot\n",
    "from mpl_toolkits.mplot3d import Axes3D\n",
    "import random\n",
    "\n",
    "\n",
    "fig = pyplot.figure()\n",
    "ax = Axes3D(fig)\n",
    "\n",
    "x1 = list([9,3,13,10,4,-5,3,11])\n",
    "x2 = list([12,6,14,12,4,-1,8,1])\n",
    "x3 = list([7,6,1,7,3,4,6,6])\n",
    "ax.set_xlabel('x1')\n",
    "ax.set_ylabel('x2')\n",
    "ax.set_zlabel('x3')\n",
    "ax.scatter(x1, x2, x3)\n",
    "pyplot.show()"
   ]
  },
  {
   "cell_type": "code",
   "execution_count": 2,
   "metadata": {},
   "outputs": [
    {
     "name": "stdout",
     "output_type": "stream",
     "text": [
      "[0.77450899 0.1593753 ]\n",
      "[[-5.57254439 -1.71660975]\n",
      " [ 2.90043937 -1.25994106]\n",
      " [-9.88514771 -0.53278013]\n",
      " [-6.31668209 -1.04858349]\n",
      " [ 3.49235417  0.8963606 ]\n",
      " [13.52972478 -1.39518719]\n",
      " [ 1.56438685 -2.74821647]\n",
      " [ 0.28746902  7.8049575 ]]\n"
     ]
    }
   ],
   "source": [
    "import numpy as np\n",
    "import pandas as pd\n",
    "from sklearn.decomposition import PCA\n",
    "from sklearn.model_selection import train_test_split\n",
    "y = [101,66,85,103,47,19,72,67]\n",
    "data = pd.DataFrame()\n",
    "data['x1'] = x1\n",
    "data['x2'] = x2\n",
    "data['x3'] = x3\n",
    "data['y'] = y\n",
    "X = data.values[:,0:3]       \n",
    "Y = data.values[:,3]       \n",
    "\n",
    "pca = PCA(n_components=2)   \n",
    "pca.fit(X)                  \n",
    "newX=pca.fit_transform(X)   \n",
    "# PCA(copy=True, n_components=2, whiten=False)\n",
    "print(pca.explained_variance_ratio_)  \n",
    "print(newX)  "
   ]
  },
  {
   "cell_type": "code",
   "execution_count": 4,
   "metadata": {},
   "outputs": [
    {
     "data": {
      "image/png": "[encoded data removed]",
      "text/plain": [
       "<Figure size 432x288 with 1 Axes>"
      ]
     },
     "metadata": {
      "needs_background": "light"
     },
     "output_type": "display_data"
    }
   ],
   "source": [
    "import matplotlib.pyplot as plt\n",
    "newX = pd.DataFrame(newX)\n",
    "plt.scatter(newX[0],newX[1])\n",
    "plt.title('Points to the Main Component')\n",
    "plt.show()"
   ]
  },
  {
   "cell_type": "code",
   "execution_count": 5,
   "metadata": {},
   "outputs": [
    {
     "name": "stdout",
     "output_type": "stream",
     "text": [
      "   x1  x2  x3    y\n",
      "0   9  12   7  101\n",
      "1   3   6   6   66\n",
      "2  13  14   1   85\n",
      "3  10  12   7  103\n",
      "4   4   4   3   47\n",
      "5  -5  -1   4   19\n",
      "6   3   8   6   72\n",
      "7  11   1   6   67\n",
      "                            OLS Regression Results                            \n",
      "==============================================================================\n",
      "Dep. Variable:                      y   R-squared:                       1.000\n",
      "Model:                            OLS   Adj. R-squared:                  1.000\n",
      "Method:                 Least Squares   F-statistic:                 7.388e+29\n",
      "Date:                Mon, 17 Feb 2020   Prob (F-statistic):           6.11e-60\n",
      "Time:                        20:48:10   Log-Likelihood:                 236.51\n",
      "No. Observations:                   8   AIC:                            -465.0\n",
      "Df Residuals:                       4   BIC:                            -464.7\n",
      "Df Model:                           3                                         \n",
      "Covariance Type:            nonrobust                                         \n",
      "==============================================================================\n",
      "                 coef    std err          t      P>|t|      [0.025      0.975]\n",
      "------------------------------------------------------------------------------\n",
      "Intercept     12.0000    5.3e-14   2.26e+14      0.000      12.000      12.000\n",
      "x1             2.0000   4.22e-15   4.74e+14      0.000       2.000       2.000\n",
      "x2             3.0000   4.53e-15   6.62e+14      0.000       3.000       3.000\n",
      "x3             5.0000   8.75e-15   5.71e+14      0.000       5.000       5.000\n",
      "==============================================================================\n",
      "Omnibus:                        1.630   Durbin-Watson:                   1.166\n",
      "Prob(Omnibus):                  0.443   Jarque-Bera (JB):                0.730\n",
      "Skew:                           0.706   Prob(JB):                        0.694\n",
      "Kurtosis:                       2.556   Cond. No.                         37.4\n",
      "==============================================================================\n",
      "\n",
      "Warnings:\n",
      "[1] Standard Errors assume that the covariance matrix of the errors is correctly specified.\n",
      "Intercept    12.0\n",
      "x1            2.0\n",
      "x2            3.0\n",
      "x3            5.0\n",
      "dtype: float64\n"
     ]
    },
    {
     "name": "stderr",
     "output_type": "stream",
     "text": [
      "C:\\Users\\78472\\Anaconda3\\lib\\site-packages\\scipy\\stats\\stats.py:1394: UserWarning: kurtosistest only valid for n>=20 ... continuing anyway, n=8\n",
      "  \"anyway, n=%i\" % int(n))\n"
     ]
    }
   ],
   "source": [
    "import statsmodels.formula.api as smf\n",
    "X = data[['x1', 'x2','x3']]\n",
    "y = data['y']\n",
    "est = smf.ols(formula='y ~ x1 + x2 +x3', data=data).fit()\n",
    "y_pred = est.predict(X)\n",
    "\n",
    "print(data)\n",
    "print(est.summary()) \n",
    "print(est.params) "
   ]
  },
  {
   "cell_type": "code",
   "execution_count": 6,
   "metadata": {},
   "outputs": [
    {
     "name": "stdout",
     "output_type": "stream",
     "text": [
      "           0         1    y         c1        c2\n",
      "0  -5.572544 -1.716610  101  -5.572544 -1.716610\n",
      "1   2.900439 -1.259941   66   2.900439 -1.259941\n",
      "2  -9.885148 -0.532780   85  -9.885148 -0.532780\n",
      "3  -6.316682 -1.048583  103  -6.316682 -1.048583\n",
      "4   3.492354  0.896361   47   3.492354  0.896361\n",
      "5  13.529725 -1.395187   19  13.529725 -1.395187\n",
      "6   1.564387 -2.748216   72   1.564387 -2.748216\n",
      "7   0.287469  7.804957   67   0.287469  7.804957\n",
      "                            OLS Regression Results                            \n",
      "==============================================================================\n",
      "Dep. Variable:                      y   R-squared:                       0.853\n",
      "Model:                            OLS   Adj. R-squared:                  0.794\n",
      "Method:                 Least Squares   F-statistic:                     14.48\n",
      "Date:                Mon, 17 Feb 2020   Prob (F-statistic):            0.00832\n",
      "Time:                        20:48:20   Log-Likelihood:                -29.772\n",
      "No. Observations:                   8   AIC:                             65.54\n",
      "Df Residuals:                       5   BIC:                             65.78\n",
      "Df Model:                           2                                         \n",
      "Covariance Type:            nonrobust                                         \n",
      "==============================================================================\n",
      "                 coef    std err          t      P>|t|      [0.025      0.975]\n",
      "------------------------------------------------------------------------------\n",
      "Intercept     70.0000      4.472     15.652      0.000      58.504      81.496\n",
      "c1            -3.4924      0.653     -5.346      0.003      -5.172      -1.813\n",
      "c2            -0.8964      1.440     -0.622      0.561      -4.599       2.806\n",
      "==============================================================================\n",
      "Omnibus:                        2.058   Durbin-Watson:                   2.594\n",
      "Prob(Omnibus):                  0.357   Jarque-Bera (JB):                1.067\n",
      "Skew:                          -0.844   Prob(JB):                        0.587\n",
      "Kurtosis:                       2.406   Cond. No.                         6.85\n",
      "==============================================================================\n",
      "\n",
      "Warnings:\n",
      "[1] Standard Errors assume that the covariance matrix of the errors is correctly specified.\n",
      "Intercept    70.000000\n",
      "c1           -3.492354\n",
      "c2           -0.896361\n",
      "dtype: float64\n"
     ]
    },
    {
     "name": "stderr",
     "output_type": "stream",
     "text": [
      "C:\\Users\\78472\\Anaconda3\\lib\\site-packages\\scipy\\stats\\stats.py:1394: UserWarning: kurtosistest only valid for n>=20 ... continuing anyway, n=8\n",
      "  \"anyway, n=%i\" % int(n))\n"
     ]
    }
   ],
   "source": [
    "import statsmodels.formula.api as smf\n",
    "newX['y'] = y\n",
    "newX['c1'] = newX[0]\n",
    "newX['c2'] = newX[1]\n",
    "X = newX[['c1', 'c2']]\n",
    "y = data['y']\n",
    "est = smf.ols(formula='y ~ c1 + c2', data=newX).fit()\n",
    "y_pred = est.predict(X)\n",
    "\n",
    "print(newX)\n",
    "print(est.summary()) \n",
    "print(est.params) "
   ]
  },
  {
   "cell_type": "code",
   "execution_count": 7,
   "metadata": {},
   "outputs": [
    {
     "data": {
      "image/png": "[encoded data removed]",
      "text/plain": [
       "<Figure size 432x288 with 1 Axes>"
      ]
     },
     "metadata": {
      "needs_background": "light"
     },
     "output_type": "display_data"
    }
   ],
   "source": [
    "fig = plt.figure()\n",
    "ax = fig.add_subplot(111, projection='3d') \n",
    "ax.scatter(newX['c1'], newX['c2'], y, c='b', marker='o')\n",
    "ax.scatter(newX['c1'], newX['c2'], y_pred, c='r', marker='+')\n",
    "ax.set_xlabel('c1')\n",
    "ax.set_ylabel('c2')\n",
    "ax.set_zlabel('y')\n",
    "plt.show()"
   ]
  },
  {
   "cell_type": "markdown",
   "metadata": {},
   "source": [
    "# Part C Naive Bayes"
   ]
  },
  {
   "cell_type": "code",
   "execution_count": 3,
   "metadata": {},
   "outputs": [],
   "source": [
    "from pandas import read_csv\n",
    "from scipy import linalg\n",
    "from sklearn import metrics\n",
    "from sklearn.naive_bayes import GaussianNB\n",
    "from sklearn.preprocessing import scale\n",
    "import numpy as np\n",
    "import matplotlib as mpl\n",
    "import scipy"
   ]
  },
  {
   "cell_type": "code",
   "execution_count": 14,
   "metadata": {},
   "outputs": [
    {
     "name": "stdout",
     "output_type": "stream",
     "text": [
      "          A         B         C       D         E      F  G         H  \\\n",
      "0  1.054530  0.095184  0.308519  0.1906  9.486833  1.985  0  0.632456   \n",
      "1  1.055480  0.104690  0.323558  0.2096  7.416198  1.625  0  0.623699   \n",
      "2  1.056505  0.114061  0.337730  0.2301  5.916080  1.260  0  0.664831   \n",
      "3  1.056800  0.116619  0.341495  0.2360  8.660254  2.500  0  0.640312   \n",
      "4  1.056905  0.117516  0.342806  0.2381  8.944272  0.730  0  0.649615   \n",
      "\n",
      "          I     J         K   L      M    N     O          P         Q  label  \n",
      "0  2.662330  10.3  2.703202   2  141.5  571  6.65  19.867562  1.801785      1  \n",
      "1  2.540276  21.4  2.703202   2  149.0  601  6.65  19.867562  1.868798      0  \n",
      "2  2.690911  38.8  2.652904   2  141.0  569  6.75  19.868065  1.343075      1  \n",
      "3  2.426520  37.1  2.705494  10  233.5  939  9.55  19.922349  2.847077      0  \n",
      "4  2.806243  21.5  2.376636  17  126.5  511  6.20  19.855226  0.723369      1  \n"
     ]
    }
   ],
   "source": [
    "column_names = ['A', 'B', 'C', 'D', 'E', 'F', 'G', 'H', 'I', 'J', 'K', 'L', 'M', 'N','O','P','Q','label']\n",
    "train = read_csv('C:/train.csv', names=column_names)\n",
    "data = train.values[:,0:17]\n",
    "target = train.values[:,17]\n",
    "print(train[0:5])"
   ]
  },
  {
   "cell_type": "code",
   "execution_count": 15,
   "metadata": {},
   "outputs": [],
   "source": [
    "# Divide the target into two classes\n",
    "targetClassB = target > np.mean(target)\n",
    "targetClassI = targetClassB.astype(int)\n",
    "\n",
    "data_s = scale(data,with_mean=True,with_std=True, axis=0)\n",
    "data_c = np.corrcoef(data_s.T)\n",
    "eig_val,r_eig_vec = scipy.linalg.eig(data_c)"
   ]
  },
  {
   "cell_type": "code",
   "execution_count": 16,
   "metadata": {},
   "outputs": [],
   "source": [
    "w = r_eig_vec[:,0:2]\n",
    "data_rd = data_s.dot(w)        # PCA Transformed data"
   ]
  },
  {
   "cell_type": "code",
   "execution_count": 17,
   "metadata": {},
   "outputs": [],
   "source": [
    "# Preforming data modeling and classification\n",
    "model = GaussianNB()\n",
    "model.fit(data_rd, targetClassI)\n",
    "predicted = model.predict(data_rd)"
   ]
  },
  {
   "cell_type": "code",
   "execution_count": 18,
   "metadata": {},
   "outputs": [
    {
     "name": "stdout",
     "output_type": "stream",
     "text": [
      "Classification Report on dimensional reduction data:\n",
      "             precision    recall  f1-score   support\n",
      "\n",
      "          0       0.80      0.71      0.76       247\n",
      "          1       0.62      0.73      0.67       159\n",
      "\n",
      "avg / total       0.73      0.72      0.72       406\n",
      "\n",
      "\n",
      "Confusion Matrix:\n",
      "[[176  71]\n",
      " [ 43 116]]\n"
     ]
    }
   ],
   "source": [
    "# Diaplay the classification report\n",
    "print(\"Classification Report on dimensional reduction data:\")\n",
    "print(metrics.classification_report(targetClassI, predicted))\n",
    "print(\"\\nConfusion Matrix:\")\n",
    "print(metrics.confusion_matrix(targetClassI, predicted))\n",
    "\n",
    "model_all = GaussianNB()\n",
    "model_all.fit(data, targetClassI)\n",
    "predicted_all = model_all.predict(data)"
   ]
  },
  {
   "cell_type": "code",
   "execution_count": 19,
   "metadata": {},
   "outputs": [
    {
     "name": "stdout",
     "output_type": "stream",
     "text": [
      "Classification Report on source data:\n",
      "             precision    recall  f1-score   support\n",
      "\n",
      "          0       0.85      0.49      0.63       247\n",
      "          1       0.52      0.87      0.65       159\n",
      "\n",
      "avg / total       0.72      0.64      0.64       406\n",
      "\n",
      "\n",
      "Confusion Matrix:\n",
      "[[122 125]\n",
      " [ 21 138]]\n"
     ]
    }
   ],
   "source": [
    "# Diaplay the classification report\n",
    "print(\"Classification Report on source data:\")\n",
    "print(metrics.classification_report(targetClassI, predicted_all))\n",
    "print(\"\\nConfusion Matrix:\")\n",
    "print(metrics.confusion_matrix(targetClassI, predicted_all))"
   ]
  },
  {
   "cell_type": "code",
   "execution_count": null,
   "metadata": {},
   "outputs": [],
   "source": []
  }
 ],
 "metadata": {
  "kernelspec": {
   "display_name": "Python 3",
   "language": "python",
   "name": "python3"
  },
  "language_info": {
   "codemirror_mode": {
    "name": "ipython",
    "version": 3
   },
   "file_extension": ".py",
   "mimetype": "text/x-python",
   "name": "python",
   "nbconvert_exporter": "python",
   "pygments_lexer": "ipython3",
   "version": "3.7.0"
  }
 },
 "nbformat": 4,
 "nbformat_minor": 2
}
